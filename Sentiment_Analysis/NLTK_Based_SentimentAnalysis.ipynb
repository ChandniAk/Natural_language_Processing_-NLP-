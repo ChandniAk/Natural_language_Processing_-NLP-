{
 "cells": [
  {
   "cell_type": "code",
   "execution_count": 34,
   "id": "c30aaa2b",
   "metadata": {
    "scrolled": true
   },
   "outputs": [],
   "source": [
    "import os\n",
    "import pandas as pd\n",
    "from nltk.tokenize import word_tokenize\n",
    "from nltk.corpus import stopwords\n",
    "from nltk.stem import WordNetLemmatizer\n",
    "from nltk.sentiment.vader import SentimentIntensityAnalyzer\n",
    "import nltk\n",
    "from sklearn.metrics import confusion_matrix, ConfusionMatrixDisplay, classification_report\n",
    "import seaborn\n",
    "#nltk.download('all')"
   ]
  },
  {
   "cell_type": "code",
   "execution_count": 2,
   "id": "22fa0ac4",
   "metadata": {},
   "outputs": [
    {
     "name": "stdout",
     "output_type": "stream",
     "text": [
      "/Users/mac/Downloads/ML_practise/NLP exercise/Sentiment_analysis\r\n"
     ]
    }
   ],
   "source": [
    "!pwd"
   ]
  },
  {
   "cell_type": "code",
   "execution_count": 3,
   "id": "e88f506e",
   "metadata": {},
   "outputs": [],
   "source": [
    "os.environ['kaggle_data'] = '/Users/mac/Downloads/ML_practise/NLP exercise/Sentiment_analysis'"
   ]
  },
  {
   "cell_type": "code",
   "execution_count": 4,
   "id": "b903e2a1",
   "metadata": {
    "scrolled": true
   },
   "outputs": [
    {
     "name": "stdout",
     "output_type": "stream",
     "text": [
      "Requirement already satisfied: kaggle in /Users/mac/opt/anaconda3/lib/python3.9/site-packages (1.6.14)\n",
      "Requirement already satisfied: six>=1.10 in /Users/mac/opt/anaconda3/lib/python3.9/site-packages (from kaggle) (1.16.0)\n",
      "Requirement already satisfied: tqdm in /Users/mac/opt/anaconda3/lib/python3.9/site-packages (from kaggle) (4.64.1)\n",
      "Requirement already satisfied: certifi>=2023.7.22 in /Users/mac/opt/anaconda3/lib/python3.9/site-packages (from kaggle) (2023.11.17)\n",
      "Requirement already satisfied: urllib3 in /Users/mac/opt/anaconda3/lib/python3.9/site-packages (from kaggle) (1.26.11)\n",
      "Requirement already satisfied: bleach in /Users/mac/opt/anaconda3/lib/python3.9/site-packages (from kaggle) (4.1.0)\n",
      "Requirement already satisfied: python-dateutil in /Users/mac/opt/anaconda3/lib/python3.9/site-packages (from kaggle) (2.8.2)\n",
      "Requirement already satisfied: requests in /Users/mac/opt/anaconda3/lib/python3.9/site-packages (from kaggle) (2.28.1)\n",
      "Requirement already satisfied: python-slugify in /Users/mac/opt/anaconda3/lib/python3.9/site-packages (from kaggle) (5.0.2)\n",
      "Requirement already satisfied: packaging in /Users/mac/opt/anaconda3/lib/python3.9/site-packages (from bleach->kaggle) (23.1)\n",
      "Requirement already satisfied: webencodings in /Users/mac/opt/anaconda3/lib/python3.9/site-packages (from bleach->kaggle) (0.5.1)\n",
      "Requirement already satisfied: text-unidecode>=1.3 in /Users/mac/opt/anaconda3/lib/python3.9/site-packages (from python-slugify->kaggle) (1.3)\n",
      "Requirement already satisfied: idna<4,>=2.5 in /Users/mac/opt/anaconda3/lib/python3.9/site-packages (from requests->kaggle) (3.3)\n",
      "Requirement already satisfied: charset-normalizer<3,>=2 in /Users/mac/opt/anaconda3/lib/python3.9/site-packages (from requests->kaggle) (2.0.4)\n"
     ]
    }
   ],
   "source": [
    "!pip install kaggle"
   ]
  },
  {
   "cell_type": "code",
   "execution_count": 16,
   "id": "d7692d88",
   "metadata": {},
   "outputs": [
    {
     "name": "stdout",
     "output_type": "stream",
     "text": [
      "Downloading sentiment-analysis-on-movie-reviews.zip to /Users/mac/Downloads/ML_practise/NLP exercise/Sentiment_analysis\n",
      "100%|██████████████████████████████████████| 1.90M/1.90M [00:01<00:00, 1.45MB/s]\n",
      "100%|██████████████████████████████████████| 1.90M/1.90M [00:01<00:00, 1.36MB/s]\n"
     ]
    }
   ],
   "source": [
    "!kaggle competitions download -c sentiment-analysis-on-movie-reviews"
   ]
  },
  {
   "cell_type": "code",
   "execution_count": 17,
   "id": "d6201d49",
   "metadata": {},
   "outputs": [
    {
     "name": "stdout",
     "output_type": "stream",
     "text": [
      "Archive:  sentiment-analysis-on-movie-reviews.zip\r\n",
      "  inflating: data/sampleSubmission.csv  \r\n",
      "  inflating: data/test.tsv.zip       \r\n",
      "  inflating: data/train.tsv.zip      \r\n"
     ]
    }
   ],
   "source": [
    "!unzip sentiment-analysis-on-movie-reviews.zip -d data\n"
   ]
  },
  {
   "cell_type": "code",
   "execution_count": 5,
   "id": "a8aa7341",
   "metadata": {},
   "outputs": [],
   "source": [
    "train_data = 'data/train.tsv.zip'\n",
    "test_data = 'data/test.tsv.zip'\n",
    "label = 'data/sampleSubmission.csv'"
   ]
  },
  {
   "cell_type": "code",
   "execution_count": 6,
   "id": "3c1a3f6c",
   "metadata": {},
   "outputs": [
    {
     "data": {
      "text/html": [
       "<div>\n",
       "<style scoped>\n",
       "    .dataframe tbody tr th:only-of-type {\n",
       "        vertical-align: middle;\n",
       "    }\n",
       "\n",
       "    .dataframe tbody tr th {\n",
       "        vertical-align: top;\n",
       "    }\n",
       "\n",
       "    .dataframe thead th {\n",
       "        text-align: right;\n",
       "    }\n",
       "</style>\n",
       "<table border=\"1\" class=\"dataframe\">\n",
       "  <thead>\n",
       "    <tr style=\"text-align: right;\">\n",
       "      <th></th>\n",
       "      <th>PhraseId</th>\n",
       "      <th>SentenceId</th>\n",
       "      <th>Phrase</th>\n",
       "      <th>Sentiment</th>\n",
       "    </tr>\n",
       "  </thead>\n",
       "  <tbody>\n",
       "    <tr>\n",
       "      <th>0</th>\n",
       "      <td>1</td>\n",
       "      <td>1</td>\n",
       "      <td>A series of escapades demonstrating the adage ...</td>\n",
       "      <td>1</td>\n",
       "    </tr>\n",
       "    <tr>\n",
       "      <th>1</th>\n",
       "      <td>2</td>\n",
       "      <td>1</td>\n",
       "      <td>A series of escapades demonstrating the adage ...</td>\n",
       "      <td>2</td>\n",
       "    </tr>\n",
       "    <tr>\n",
       "      <th>2</th>\n",
       "      <td>3</td>\n",
       "      <td>1</td>\n",
       "      <td>A series</td>\n",
       "      <td>2</td>\n",
       "    </tr>\n",
       "    <tr>\n",
       "      <th>3</th>\n",
       "      <td>4</td>\n",
       "      <td>1</td>\n",
       "      <td>A</td>\n",
       "      <td>2</td>\n",
       "    </tr>\n",
       "    <tr>\n",
       "      <th>4</th>\n",
       "      <td>5</td>\n",
       "      <td>1</td>\n",
       "      <td>series</td>\n",
       "      <td>2</td>\n",
       "    </tr>\n",
       "  </tbody>\n",
       "</table>\n",
       "</div>"
      ],
      "text/plain": [
       "   PhraseId  SentenceId                                             Phrase  \\\n",
       "0         1           1  A series of escapades demonstrating the adage ...   \n",
       "1         2           1  A series of escapades demonstrating the adage ...   \n",
       "2         3           1                                           A series   \n",
       "3         4           1                                                  A   \n",
       "4         5           1                                             series   \n",
       "\n",
       "   Sentiment  \n",
       "0          1  \n",
       "1          2  \n",
       "2          2  \n",
       "3          2  \n",
       "4          2  "
      ]
     },
     "execution_count": 6,
     "metadata": {},
     "output_type": "execute_result"
    }
   ],
   "source": [
    "df_train = pd.read_csv(train_data, sep ='\\t')\n",
    "df_train.head()"
   ]
  },
  {
   "cell_type": "code",
   "execution_count": 7,
   "id": "780b0659",
   "metadata": {},
   "outputs": [
    {
     "data": {
      "text/html": [
       "<div>\n",
       "<style scoped>\n",
       "    .dataframe tbody tr th:only-of-type {\n",
       "        vertical-align: middle;\n",
       "    }\n",
       "\n",
       "    .dataframe tbody tr th {\n",
       "        vertical-align: top;\n",
       "    }\n",
       "\n",
       "    .dataframe thead th {\n",
       "        text-align: right;\n",
       "    }\n",
       "</style>\n",
       "<table border=\"1\" class=\"dataframe\">\n",
       "  <thead>\n",
       "    <tr style=\"text-align: right;\">\n",
       "      <th></th>\n",
       "      <th>PhraseId</th>\n",
       "      <th>SentenceId</th>\n",
       "      <th>Phrase</th>\n",
       "    </tr>\n",
       "  </thead>\n",
       "  <tbody>\n",
       "    <tr>\n",
       "      <th>0</th>\n",
       "      <td>156061</td>\n",
       "      <td>8545</td>\n",
       "      <td>An intermittently pleasing but mostly routine ...</td>\n",
       "    </tr>\n",
       "    <tr>\n",
       "      <th>1</th>\n",
       "      <td>156062</td>\n",
       "      <td>8545</td>\n",
       "      <td>An intermittently pleasing but mostly routine ...</td>\n",
       "    </tr>\n",
       "    <tr>\n",
       "      <th>2</th>\n",
       "      <td>156063</td>\n",
       "      <td>8545</td>\n",
       "      <td>An</td>\n",
       "    </tr>\n",
       "    <tr>\n",
       "      <th>3</th>\n",
       "      <td>156064</td>\n",
       "      <td>8545</td>\n",
       "      <td>intermittently pleasing but mostly routine effort</td>\n",
       "    </tr>\n",
       "    <tr>\n",
       "      <th>4</th>\n",
       "      <td>156065</td>\n",
       "      <td>8545</td>\n",
       "      <td>intermittently pleasing but mostly routine</td>\n",
       "    </tr>\n",
       "  </tbody>\n",
       "</table>\n",
       "</div>"
      ],
      "text/plain": [
       "   PhraseId  SentenceId                                             Phrase\n",
       "0    156061        8545  An intermittently pleasing but mostly routine ...\n",
       "1    156062        8545  An intermittently pleasing but mostly routine ...\n",
       "2    156063        8545                                                 An\n",
       "3    156064        8545  intermittently pleasing but mostly routine effort\n",
       "4    156065        8545         intermittently pleasing but mostly routine"
      ]
     },
     "execution_count": 7,
     "metadata": {},
     "output_type": "execute_result"
    }
   ],
   "source": [
    "df_test = pd.read_csv(test_data, sep='\\t')\n",
    "df_test.head()"
   ]
  },
  {
   "cell_type": "markdown",
   "id": "8030587a",
   "metadata": {},
   "source": [
    "The sentiment labels are:\n",
    "\n",
    "0 - negative\n",
    "1 - somewhat negative\n",
    "2 - neutral\n",
    "3 - somewhat positive\n",
    "4 - positive"
   ]
  },
  {
   "cell_type": "code",
   "execution_count": 8,
   "id": "b8433a2f",
   "metadata": {},
   "outputs": [],
   "source": [
    "def preprocess(doc):\n",
    "    #token\n",
    "    #remove stopwords\n",
    "    #lemmization\n",
    "    #return join\n",
    "    token = word_tokenize(doc.lower())\n",
    "    tokenz=[]\n",
    "    for tok in token:\n",
    "        if tok not in stopwords.words('english'):\n",
    "            tokenz.append(tok)\n",
    "    vector = WordNetLemmatizer()\n",
    "    data = [vector.lemmatize(tok) for tok in tokenz]\n",
    "    return \" \".join(data)"
   ]
  },
  {
   "cell_type": "code",
   "execution_count": 9,
   "id": "27955616",
   "metadata": {},
   "outputs": [],
   "source": [
    "df_train['Phrase']= df_train.Phrase.apply(preprocess)"
   ]
  },
  {
   "cell_type": "code",
   "execution_count": 10,
   "id": "1e078d7c",
   "metadata": {},
   "outputs": [],
   "source": [
    "df_test['Phrase']= df_test.Phrase.apply(preprocess)"
   ]
  },
  {
   "cell_type": "code",
   "execution_count": 37,
   "id": "03e9b146",
   "metadata": {},
   "outputs": [
    {
     "data": {
      "text/plain": [
       "0         series escapade demonstrating adage good goose...\n",
       "1            series escapade demonstrating adage good goose\n",
       "2                                                    series\n",
       "3                                                          \n",
       "4                                                    series\n",
       "                                ...                        \n",
       "156055                                            hearst 's\n",
       "156056                             forced avuncular chortle\n",
       "156057                                    avuncular chortle\n",
       "156058                                            avuncular\n",
       "156059                                              chortle\n",
       "Name: Phrase, Length: 156060, dtype: object"
      ]
     },
     "execution_count": 37,
     "metadata": {},
     "output_type": "execute_result"
    }
   ],
   "source": [
    "df_train['Phrase']"
   ]
  },
  {
   "cell_type": "code",
   "execution_count": 19,
   "id": "21b8f68b",
   "metadata": {},
   "outputs": [],
   "source": [
    "def sentiment(data):\n",
    "    sent = SentimentIntensityAnalyzer()\n",
    "    s = sent.polarity_scores(data)\n",
    "    score = s['compound']\n",
    "    if score <=-0.5:\n",
    "        senti = 'negative'\n",
    "    elif -0.5 < score <= -0.1:\n",
    "        senti = 'somewhat negative'\n",
    "    elif -0.1 < score <= 0.1:\n",
    "        senti= \"neutral\"\n",
    "    elif 0.1 < score <= 0.5:\n",
    "        senti = 'somewhat positive'\n",
    "    else:\n",
    "        senti = 'positive'\n",
    "    #senti = 2 if score['pos'] > 0 else -1\n",
    "    return senti"
   ]
  },
  {
   "cell_type": "code",
   "execution_count": 21,
   "id": "bfe03666",
   "metadata": {},
   "outputs": [],
   "source": [
    "df_train['Predicted'] = df_train[\"Phrase\"].apply(sentiment)"
   ]
  },
  {
   "cell_type": "code",
   "execution_count": 26,
   "id": "ba0153a8",
   "metadata": {},
   "outputs": [],
   "source": [
    "def convert(data):\n",
    "    if data == 'negative':\n",
    "        data = 0\n",
    "    elif data == 'somewhat negative':\n",
    "        data = 1\n",
    "    elif data == 'neutral':\n",
    "        data = 2\n",
    "    elif data == 'somewhat positive':\n",
    "        data = 3\n",
    "    elif data == 'positive':\n",
    "        data = 4\n",
    "    return data"
   ]
  },
  {
   "cell_type": "code",
   "execution_count": 27,
   "id": "3c9a13a1",
   "metadata": {},
   "outputs": [],
   "source": [
    "df_train['Predicted'] = df_train['Predicted'].map(convert)"
   ]
  },
  {
   "cell_type": "code",
   "execution_count": 28,
   "id": "a3aa57be",
   "metadata": {},
   "outputs": [],
   "source": [
    "cm = confusion_matrix(df_train['Sentiment'], df_train['Predicted'])"
   ]
  },
  {
   "cell_type": "code",
   "execution_count": 33,
   "id": "b553dd4c",
   "metadata": {},
   "outputs": [
    {
     "data": {
      "text/plain": [
       "<sklearn.metrics._plot.confusion_matrix.ConfusionMatrixDisplay at 0x7f79288e3220>"
      ]
     },
     "execution_count": 33,
     "metadata": {},
     "output_type": "execute_result"
    },
    {
     "data": {
      "image/png": "[encoded data removed]",
      "text/plain": [
       "<Figure size 640x480 with 2 Axes>"
      ]
     },
     "metadata": {},
     "output_type": "display_data"
    }
   ],
   "source": [
    "dis = ConfusionMatrixDisplay(cm, display_labels=[0,1,2,3,4])\n",
    "dis.plot()"
   ]
  },
  {
   "cell_type": "code",
   "execution_count": 36,
   "id": "7b89e536",
   "metadata": {},
   "outputs": [
    {
     "name": "stdout",
     "output_type": "stream",
     "text": [
      "              precision    recall  f1-score   support\n",
      "\n",
      "           0       0.20      0.24      0.22      7072\n",
      "           1       0.37      0.22      0.28     27273\n",
      "           2       0.66      0.71      0.69     79582\n",
      "           3       0.37      0.30      0.33     32927\n",
      "           4       0.24      0.48      0.32      9206\n",
      "\n",
      "    accuracy                           0.50    156060\n",
      "   macro avg       0.37      0.39      0.37    156060\n",
      "weighted avg       0.50      0.50      0.50    156060\n",
      "\n"
     ]
    }
   ],
   "source": [
    "dat = classification_report(df_train['Sentiment'], df_train['Predicted'])\n",
    "print(dat)"
   ]
  },
  {
   "cell_type": "code",
   "execution_count": null,
   "id": "b09dc4c6",
   "metadata": {},
   "outputs": [],
   "source": []
  }
 ],
 "metadata": {
  "kernelspec": {
   "display_name": "Python 3 (ipykernel)",
   "language": "python",
   "name": "python3"
  },
  "language_info": {
   "codemirror_mode": {
    "name": "ipython",
    "version": 3
   },
   "file_extension": ".py",
   "mimetype": "text/x-python",
   "name": "python",
   "nbconvert_exporter": "python",
   "pygments_lexer": "ipython3",
   "version": "3.9.13"
  }
 },
 "nbformat": 4,
 "nbformat_minor": 5
}
